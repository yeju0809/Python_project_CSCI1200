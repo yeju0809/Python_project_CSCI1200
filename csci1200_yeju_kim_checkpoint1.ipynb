{
 "cells": [
  {
   "cell_type": "code",
   "execution_count": 39,
   "metadata": {
    "id": "a1b9_1PXQ4Xc"
   },
   "outputs": [],
   "source": [
    "#Name: Yeju Kim\n",
    "#Student number: 110672346\n",
    "#Class: CSCI1200 - 010\n",
    "#Homework name: Checkpoint1_Yeju_Kim_CSCI1200\n",
    "#Description: for the checkpoint 1, it shows code for getting input from a user: get_menu_choice() and a brief code for creating a menu system: main()"
   ]
  },
  {
   "cell_type": "code",
   "execution_count": 2,
   "metadata": {
    "id": "JwDpmeFAQ4Xg"
   },
   "outputs": [],
   "source": [
    "%matplotlib inline\n",
    "\n",
    "\n",
    "import matplotlib.pyplot as plt\n",
    "import statistics\n",
    "\n",
    "# You may add more imports as needed\n",
    "\n",
    "# \"BD\" stands for \"batting data\" \n",
    "class BD:\n",
    "    year = 0\n",
    "    player_id = 1\n",
    "    first_name = 2\n",
    "    last_name = 3\n",
    "    team_name = 4\n",
    "    games = 5\n",
    "    at_bats = 6\n",
    "    runs = 7\n",
    "    hits = 8\n",
    "    doubles = 9\n",
    "    triples = 10\n",
    "    home_runs = 11\n",
    "    rbi = 12\n",
    "    walks = 13\n",
    "    hbp = 14\n",
    "    stolen_bases = 15\n",
    "    caught_stealing = 16\n",
    "    strike_outs = 17\n",
    "    sac_flies = 18\n",
    "    position = 19"
   ]
  },
  {
   "cell_type": "code",
   "execution_count": 13,
   "metadata": {
    "id": "86nXVHczQ4Xh"
   },
   "outputs": [],
   "source": [
    "def verify_baseball_data(data):\n",
    "    \"\"\"\n",
    "    Verifies the structure and format of the baseball data:\n",
    "        checks that all rows have the same number of columns\n",
    "        checks that each column is the correct type (str for string columns, int for int columns)\n",
    "        checks that it has the correct number of rows and the correct number of columns\n",
    "    \n",
    "    If your data is in the right format, you'll see the output:\n",
    "        Rows: 74750\n",
    "        Cols: 20\n",
    "        Congrats! You have the correct shape of data!\n",
    "\n",
    "    If you see something else, this will give you an indication of what is not right.\n",
    "\n",
    "    Parameters:\n",
    "    -----------\n",
    "        data : list of lists\n",
    "            From the baseball data (each sublist corresponds to a row from the input file)\n",
    "    \"\"\"\n",
    "    rows = len(data)\n",
    "    cols = len(data[0])\n",
    "\n",
    "    # make sure all rows have the same number of columns\n",
    "    same_number_columns = True\n",
    "    i = 0\n",
    "    while i < len(data):\n",
    "        row = data[i]\n",
    "        if len(row) != cols:\n",
    "            same_number_columns = False\n",
    "        i += 1\n",
    "\n",
    "    if not same_number_columns:\n",
    "        print(\"Some rows have a different number of columns!\")\n",
    "\n",
    "    # make sure each column is the correct type\n",
    "    overall_type = True    \n",
    "    str_cols = [BD.player_id, BD.first_name, BD.last_name, BD.team_name, BD.position]\n",
    "    \n",
    "    column = 0\n",
    "    while column < cols:\n",
    "        col_vals = get_column_values(data, column)\n",
    "        correct_type = True\n",
    "        j = 0\n",
    "        while j < len(col_vals):\n",
    "            val = col_vals[j]\n",
    "            if ((column in str_cols) and type(val) is not str) or (column not in str_cols and type(val) is not int):\n",
    "                correct_type = False\n",
    "            j += 1\n",
    "\n",
    "        if not correct_type:\n",
    "            print(\"Column \" + str(column) + \" contains values that are not the right type!\")\n",
    "            print(col_vals[:10]) # print the first 10 values\n",
    "            overall_type = False\n",
    "        column += 1\n",
    "\n",
    "\n",
    "    if overall_type and same_number_columns:\n",
    "        print(\"Rows: \" + str(rows))\n",
    "        print(\"Cols: \" + str(cols))\n",
    "\n",
    "        if rows == 74750 and cols == 20:\n",
    "            print(\"Congrats! You have the correct shape of data!\")\n",
    "        else:\n",
    "            print(\"You have the incorrect shape of data!\")\n",
    "            print(\"You have # rows (should be 74750): \" + str(rows))\n",
    "            print(\"You have # columns (should be 20): \" + str(cols))"
   ]
  },
  {
   "cell_type": "code",
   "execution_count": null,
   "metadata": {},
   "outputs": [],
   "source": [
    "verify_baseball_data(\"battingData1950Present.csv\")"
   ]
  },
  {
   "cell_type": "markdown",
   "metadata": {
    "id": "UgDiVu69Q4Xi"
   },
   "source": [
    "Baseball Data Visualization Project\n",
    "=============\n",
    "\n",
    "Add more cells as needed! Make sure that your notebook runs without errors before turning it in for each checkpoint!"
   ]
  },
  {
   "cell_type": "markdown",
   "metadata": {
    "id": "Y_Q0EUR1Q4Xk"
   },
   "source": [
    "## Checkpoint 1\n",
    "\n",
    "1. Code for getting input from a user: get_menu_choice()\n",
    "2. Brief code for creating a menu system: main()"
   ]
  },
  {
   "cell_type": "code",
   "execution_count": 3,
   "metadata": {},
   "outputs": [],
   "source": [
    "## 1.\n",
    "\n",
    "#Make `get_menu_choice()` function to get user's input.\n",
    "def get_menu_choice():\n",
    "    #Define and prompt the menu for a user.\n",
    "    menu = \"\"\"\n",
    "    1: Line graph of games played for one player over time\n",
    "    2: Line graph of games played for one player over time, separated by team \n",
    "    3: Histogram of runs scored for all players in one year (no cutoff) \n",
    "    4: Histogram of runs scored for all players in one year (cutoff = 100) \n",
    "    5: Graph of team presence over time \n",
    "    6: Homeruns over time (percentiles)\n",
    "    7: Violin boxplot for the number of home runs, hits, walks, and strike-out of a selected team. (Cumulative 1950 - 2016)\n",
    "    8: multi-plot with bar plots which shows the top 3 features among hits, doubles, triples, home runs, walks, stolen bases, sac fly, and caught stealing for every position, respectively.\n",
    "    0: Exit\"\"\"\n",
    "    \n",
    "    choice = input(menu)\n",
    "    \n",
    "    #Define the valid input.\n",
    "    valid_value = [\"0\", \"1\", \"2\", \"3\", \"4\", \"5\", \"6\", \"7\", \"8\"]\n",
    "    \n",
    "    #While the choice is not in the Valid_value, \n",
    "    #re-prompt the menu and ask again to the user.\n",
    "    while not choice in valid_value:\n",
    "        print(\"Error: Invalid value\")\n",
    "        choice = input(menu)\n",
    "        \n",
    "    #If not, return the choice\n",
    "    return choice"
   ]
  },
  {
   "cell_type": "code",
   "execution_count": 31,
   "metadata": {},
   "outputs": [
    {
     "name": "stdin",
     "output_type": "stream",
     "text": [
      "\n",
      "    1: Line graph of games played for one player over time\n",
      "    2: Line graph of games played for one player over time, separated by team \n",
      "    3: Histogram of runs scored for all players in one year (no cutoff) \n",
      "    4: Histogram of runs scored for all players in one year (cutoff = 100) \n",
      "    5: Graph of team presence over time \n",
      "    6: Homeruns over time (percentiles)\n",
      "    7: Violin boxplot for the number of home runs, hits, walks, and strike-out of a selected team. (Cumulative 1950 - 2016)\n",
      "    8: multi-plot with bar plots which shows the top 3 features among hits, doubles, triples, home runs, walks, stolen bases, sac fly, and caught stealing for every position, respectively.\n",
      "    0: Exit j\n"
     ]
    },
    {
     "name": "stdout",
     "output_type": "stream",
     "text": [
      "Error: Invalid value\n"
     ]
    },
    {
     "name": "stdin",
     "output_type": "stream",
     "text": [
      "\n",
      "    1: Line graph of games played for one player over time\n",
      "    2: Line graph of games played for one player over time, separated by team \n",
      "    3: Histogram of runs scored for all players in one year (no cutoff) \n",
      "    4: Histogram of runs scored for all players in one year (cutoff = 100) \n",
      "    5: Graph of team presence over time \n",
      "    6: Homeruns over time (percentiles)\n",
      "    7: Violin boxplot for the number of home runs, hits, walks, and strike-out of a selected team. (Cumulative 1950 - 2016)\n",
      "    8: multi-plot with bar plots which shows the top 3 features among hits, doubles, triples, home runs, walks, stolen bases, sac fly, and caught stealing for every position, respectively.\n",
      "    0: Exit 1\n"
     ]
    },
    {
     "data": {
      "text/plain": [
       "'1'"
      ]
     },
     "execution_count": 31,
     "metadata": {},
     "output_type": "execute_result"
    }
   ],
   "source": [
    "get_menu_choice()"
   ]
  },
  {
   "cell_type": "code",
   "execution_count": 20,
   "metadata": {},
   "outputs": [
    {
     "ename": "AttributeError",
     "evalue": "type object 'BD' has no attribute 'column'",
     "output_type": "error",
     "traceback": [
      "\u001b[1;31m---------------------------------------------------------------------------\u001b[0m",
      "\u001b[1;31mAttributeError\u001b[0m                            Traceback (most recent call last)",
      "Input \u001b[1;32mIn [20]\u001b[0m, in \u001b[0;36m<cell line: 31>\u001b[1;34m()\u001b[0m\n\u001b[0;32m     27\u001b[0m         clean_data\u001b[38;5;241m.\u001b[39mappend(line)\n\u001b[0;32m     29\u001b[0m     \u001b[38;5;28;01mreturn\u001b[39;00m clean_data\n\u001b[1;32m---> 31\u001b[0m \u001b[43mverify_baseball_data\u001b[49m\u001b[43m(\u001b[49m\u001b[43mread_data\u001b[49m\u001b[43m(\u001b[49m\u001b[43m)\u001b[49m\u001b[43m)\u001b[49m\n",
      "Input \u001b[1;32mIn [13]\u001b[0m, in \u001b[0;36mverify_baseball_data\u001b[1;34m(data)\u001b[0m\n\u001b[0;32m     39\u001b[0m column \u001b[38;5;241m=\u001b[39m \u001b[38;5;241m0\u001b[39m\n\u001b[0;32m     40\u001b[0m \u001b[38;5;28;01mwhile\u001b[39;00m column \u001b[38;5;241m<\u001b[39m cols:\n\u001b[1;32m---> 41\u001b[0m     col_vals \u001b[38;5;241m=\u001b[39m \u001b[43mget_column_values\u001b[49m\u001b[43m(\u001b[49m\u001b[43mdata\u001b[49m\u001b[43m,\u001b[49m\u001b[43m \u001b[49m\u001b[43mcolumn\u001b[49m\u001b[43m)\u001b[49m\n\u001b[0;32m     42\u001b[0m     correct_type \u001b[38;5;241m=\u001b[39m \u001b[38;5;28;01mTrue\u001b[39;00m\n\u001b[0;32m     43\u001b[0m     j \u001b[38;5;241m=\u001b[39m \u001b[38;5;241m0\u001b[39m\n",
      "Input \u001b[1;32mIn [15]\u001b[0m, in \u001b[0;36mget_column_values\u001b[1;34m(data, column)\u001b[0m\n\u001b[0;32m      2\u001b[0m column_value \u001b[38;5;241m=\u001b[39m []\n\u001b[0;32m      4\u001b[0m \u001b[38;5;28;01mfor\u001b[39;00m line \u001b[38;5;129;01min\u001b[39;00m data:\n\u001b[1;32m----> 5\u001b[0m     column_value\u001b[38;5;241m.\u001b[39mappend(line[\u001b[43mBD\u001b[49m\u001b[38;5;241;43m.\u001b[39;49m\u001b[43mcolumn\u001b[49m])\n\u001b[0;32m      7\u001b[0m \u001b[38;5;28;01mreturn\u001b[39;00m column_value\n",
      "\u001b[1;31mAttributeError\u001b[0m: type object 'BD' has no attribute 'column'"
     ]
    }
   ],
   "source": [
    "import csv\n",
    "\n",
    "def read_data():\n",
    "    filename = \"battingData1950Present.csv\"\n",
    "    file = open(filename, \"r\")\n",
    "    reader = csv.reader(file)\n",
    "    \n",
    "    line_count = 0\n",
    "    new_data = []\n",
    "    for line in reader:\n",
    "        if line_count == 0:\n",
    "            header = line\n",
    "        else:\n",
    "            new_data.append(line)\n",
    "        line_count += 1\n",
    "    \n",
    "    clean_data = []\n",
    "    for row in new_data:\n",
    "        line = []\n",
    "        for i in row:\n",
    "            if i.isnumeric():\n",
    "                line.append(int(i))\n",
    "            elif i == \"\":\n",
    "                line.append(0)\n",
    "            elif type(i) == str:\n",
    "                line.append(i)\n",
    "        clean_data.append(line)\n",
    "        \n",
    "    return clean_data\n",
    "\n",
    "verify_baseball_data(read_data())"
   ]
  },
  {
   "cell_type": "code",
   "execution_count": 10,
   "metadata": {},
   "outputs": [],
   "source": [
    "## 2.\n",
    "\n",
    "def main():\n",
    "    data = read_data()\n",
    "    \n",
    "    #Call the get_menu_choice() function \n",
    "    #and store the choice(= user’s input) in menu_choice.\n",
    "    menu_choice = get_menu_choice()\n",
    "    \n",
    "    # While munu_choice is not 0, implement the selected option.\n",
    "    while menu_choice != '0':\n",
    "        if menu_choice == '1':\n",
    "            print(\"Option 1\")\n",
    "            #Draw the Line graph of games played for one player over time\n",
    "        elif menu_choice == '2':\n",
    "            print(\"Option 2\")\n",
    "            #Draw the Line graph of games played for one player over time, separated by team\n",
    "        elif menu_choice == '3':\n",
    "            print(\"Option 3\")\n",
    "            #Draw the Histogram of runs scored for all players in one year (no cutoff)\n",
    "        elif menu_choice == '4':\n",
    "            print(\"Option 4\")\n",
    "            #Draw the Histogram of runs scored for all players in one year (cutoff = 100)\n",
    "        elif menu_choice == '5':\n",
    "            print(\"Option 5\")\n",
    "            #Draw the graph of team presence over time\n",
    "        elif menu_choice == '6':\n",
    "            print(\"Option 6\")\n",
    "            #Draw the plot of home runs over time (percentiles)\n",
    "        elif menu_choice == '7':\n",
    "            print(\"Option 7\")\n",
    "            #Draw the violin boxplot for the number of \n",
    "            #home runs, hits, walks, and strike-out of a selected team. (Cumulative 1950 - 2016)\n",
    "        elif menu_choice == '8':\n",
    "            print(\"Option 8\")\n",
    "            #Draw the multiplot with bar plots that show the top 3 features \n",
    "            #among hits, doubles, triples, home runs, walks, stolen bases, sac fly, and caught stealing \n",
    "            #for every position, respectively.\n",
    "        \n",
    "        # If the previous process is completed, \n",
    "        #re-prompt the menu and ask for the user’s input again\n",
    "        menu_choice = get_menu_choice()\n",
    "    \n",
    "    #Getting out of the while loop above means the user enters ‘0’, \n",
    "    #so return “Exit.”\n",
    "    return \"Exit\""
   ]
  },
  {
   "cell_type": "code",
   "execution_count": 29,
   "metadata": {},
   "outputs": [
    {
     "name": "stdin",
     "output_type": "stream",
     "text": [
      "\n",
      "    1: Line graph of games played for one player over time\n",
      "    2: Line graph of games played for one player over time, separated by team \n",
      "    3: Histogram of runs scored for all players in one year (no cutoff) \n",
      "    4: Histogram of runs scored for all players in one year (cutoff = 100) \n",
      "    5: Graph of team presence over time \n",
      "    6: Homeruns over time (percentiles)\n",
      "    7: Violin boxplot for the number of home runs, hits, walks, and strike-out of a selected team. (Cumulative 1950 - 2016)\n",
      "    8: multi-plot with bar plots which shows the top 3 features among hits, doubles, triples, home runs, walks, stolen bases, sac fly, and caught stealing for every position, respectively.\n",
      "    0: Exit 2\n"
     ]
    },
    {
     "name": "stdout",
     "output_type": "stream",
     "text": [
      "Option 2\n"
     ]
    },
    {
     "name": "stdin",
     "output_type": "stream",
     "text": [
      "\n",
      "    1: Line graph of games played for one player over time\n",
      "    2: Line graph of games played for one player over time, separated by team \n",
      "    3: Histogram of runs scored for all players in one year (no cutoff) \n",
      "    4: Histogram of runs scored for all players in one year (cutoff = 100) \n",
      "    5: Graph of team presence over time \n",
      "    6: Homeruns over time (percentiles)\n",
      "    7: Violin boxplot for the number of home runs, hits, walks, and strike-out of a selected team. (Cumulative 1950 - 2016)\n",
      "    8: multi-plot with bar plots which shows the top 3 features among hits, doubles, triples, home runs, walks, stolen bases, sac fly, and caught stealing for every position, respectively.\n",
      "    0: Exit 9\n"
     ]
    },
    {
     "name": "stdout",
     "output_type": "stream",
     "text": [
      "Error: Invalid value\n"
     ]
    },
    {
     "name": "stdin",
     "output_type": "stream",
     "text": [
      "\n",
      "    1: Line graph of games played for one player over time\n",
      "    2: Line graph of games played for one player over time, separated by team \n",
      "    3: Histogram of runs scored for all players in one year (no cutoff) \n",
      "    4: Histogram of runs scored for all players in one year (cutoff = 100) \n",
      "    5: Graph of team presence over time \n",
      "    6: Homeruns over time (percentiles)\n",
      "    7: Violin boxplot for the number of home runs, hits, walks, and strike-out of a selected team. (Cumulative 1950 - 2016)\n",
      "    8: multi-plot with bar plots which shows the top 3 features among hits, doubles, triples, home runs, walks, stolen bases, sac fly, and caught stealing for every position, respectively.\n",
      "    0: Exit 0\n"
     ]
    },
    {
     "data": {
      "text/plain": [
       "'Exit'"
      ]
     },
     "execution_count": 29,
     "metadata": {},
     "output_type": "execute_result"
    }
   ],
   "source": [
    "main()"
   ]
  },
  {
   "cell_type": "markdown",
   "metadata": {},
   "source": [
    "## Checkpoint 2\n",
    "\n"
   ]
  },
  {
   "cell_type": "code",
   "execution_count": 17,
   "metadata": {},
   "outputs": [],
   "source": [
    "def get_matching_rows(data, column, target):\n",
    "    matching_rows = []\n",
    "    \n",
    "    for line in data:\n",
    "        if line[BD.column] == target:\n",
    "            matching_rows.append(line)\n",
    "            \n",
    "    return matching_rows"
   ]
  },
  {
   "cell_type": "code",
   "execution_count": 15,
   "metadata": {},
   "outputs": [],
   "source": [
    "def get_column_values(data, column):\n",
    "    column_value = []\n",
    "    \n",
    "    for line in data:\n",
    "        column_value.append(line[BD.column])\n",
    "        \n",
    "    return column_value"
   ]
  },
  {
   "cell_type": "code",
   "execution_count": 7,
   "metadata": {},
   "outputs": [],
   "source": [
    "def get_unique_values(List):\n",
    "    return list(set(List))"
   ]
  },
  {
   "cell_type": "code",
   "execution_count": 16,
   "metadata": {},
   "outputs": [],
   "source": [
    "def get_unique_column_values(data, column):\n",
    "    values = get_column_values(data, column)\n",
    "    unique = get_unique_values(values)\n",
    "    \n",
    "    return unique"
   ]
  },
  {
   "cell_type": "code",
   "execution_count": null,
   "metadata": {},
   "outputs": [],
   "source": []
  }
 ],
 "metadata": {
  "colab": {
   "name": "baseball_starter.ipynb",
   "provenance": []
  },
  "kernelspec": {
   "display_name": "Python 3 (ipykernel)",
   "language": "python",
   "name": "python3"
  },
  "language_info": {
   "codemirror_mode": {
    "name": "ipython",
    "version": 3
   },
   "file_extension": ".py",
   "mimetype": "text/x-python",
   "name": "python",
   "nbconvert_exporter": "python",
   "pygments_lexer": "ipython3",
   "version": "3.9.13"
  }
 },
 "nbformat": 4,
 "nbformat_minor": 4
}
